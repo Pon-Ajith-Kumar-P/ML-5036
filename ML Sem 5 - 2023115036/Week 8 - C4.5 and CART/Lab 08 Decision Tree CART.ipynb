{
 "cells": [
  {
   "cell_type": "code",
   "execution_count": 4,
   "id": "e664ca0d-1a59-41db-b215-5c0df74e60e1",
   "metadata": {},
   "outputs": [],
   "source": [
    "import pandas as pd\n",
    "import numpy as np\n",
    "from sklearn.datasets import load_iris\n",
    "from sklearn.model_selection import train_test_split\n",
    "from collections import Counter"
   ]
  },
  {
   "cell_type": "code",
   "execution_count": 5,
   "id": "04fb49d2-b5e1-4aa4-a783-e4de50ac4213",
   "metadata": {},
   "outputs": [],
   "source": [
    "iris = load_iris()\n",
    "df = pd.DataFrame(iris.data, columns=iris.feature_names)\n",
    "df[\"label\"] = iris.target\n",
    "df[\"label\"] = df[\"label\"].map({0: \"setosa\", 1: \"versicolor\", 2: \"virginica\"})"
   ]
  },
  {
   "cell_type": "code",
   "execution_count": 6,
   "id": "f0903dc7-01fb-49eb-a929-1a980af9bdfd",
   "metadata": {},
   "outputs": [],
   "source": [
    "train_df, test_df = train_test_split(df, test_size=0.2, random_state=42)"
   ]
  },
  {
   "cell_type": "code",
   "execution_count": 7,
   "id": "e41d6667-b3ae-4b31-a24f-4d09afccb751",
   "metadata": {},
   "outputs": [],
   "source": [
    "def gini(data):\n",
    "    labels = data[\"label\"]\n",
    "    counts = Counter(labels)\n",
    "    total = len(labels)\n",
    "    return 1 - sum((count/total)**2 for count in counts.values())"
   ]
  },
  {
   "cell_type": "code",
   "execution_count": 8,
   "id": "305edc8b-4051-4c58-8e8f-9d37d508221b",
   "metadata": {},
   "outputs": [],
   "source": [
    "def best_split(data, attributes):\n",
    "    best_attr, best_threshold, best_gini = None, None, 1\n",
    "\n",
    "    for attr in attributes:\n",
    "        values = sorted(data[attr].unique())\n",
    "        for i in range(len(values) - 1):\n",
    "            threshold = (values[i] + values[i+1]) / 2\n",
    "            left_split = data[data[attr] <= threshold]\n",
    "            right_split = data[data[attr] > threshold]\n",
    "\n",
    "            if len(left_split) == 0 or len(right_split) == 0:\n",
    "                continue\n",
    "\n",
    "            weighted_gini = (len(left_split)/len(data))*gini(left_split) + \\ (len(right_split)/len(data))*gini(right_split)\n",
    "\n",
    "            if weighted_gini < best_gini:\n",
    "                best_gini = weighted_gini\n",
    "                best_attr = attr\n",
    "                best_threshold = threshold\n",
    "\n",
    "    return best_attr, best_threshold, best_gini"
   ]
  },
  {
   "cell_type": "code",
   "execution_count": 9,
   "id": "6a215575-d9d6-4776-8b6e-15fe9994e6ea",
   "metadata": {},
   "outputs": [],
   "source": [
    "def cart(data, attributes, depth=0, max_depth=3):\n",
    "    labels = data[\"label\"]\n",
    "\n",
    "    if len(set(labels)) == 1:\n",
    "        return labels.iloc[0]\n",
    "    if len(attributes) == 0 or depth == max_depth:\n",
    "        return Counter(labels).most_common(1)[0][0]\n",
    "\n",
    "    best_attr, best_threshold, best_gini = best_split(data, attributes)\n",
    "    if best_attr is None:\n",
    "        return Counter(labels).most_common(1)[0][0]\n",
    "\n",
    "    left_split = data[data[best_attr] <= best_threshold]\n",
    "    right_split = data[data[best_attr] > best_threshold]\n",
    "\n",
    "    tree = {f\"{best_attr} <= {best_threshold:.2f}\": cart(left_split, attributes, depth+1, max_depth),\n",
    "            f\"{best_attr} > {best_threshold:.2f}\": cart(right_split, attributes, depth+1, max_depth)}\n",
    "\n",
    "    return tree"
   ]
  },
  {
   "cell_type": "code",
   "execution_count": 10,
   "id": "468b7e2e-3d14-4b35-9c64-3d6efae1b2ce",
   "metadata": {},
   "outputs": [],
   "source": [
    "def predict(tree, sample):\n",
    "    if not isinstance(tree, dict):\n",
    "        return tree\n",
    "\n",
    "    node = list(tree.keys())[0]   # e.g. \"sepal length (cm) <= 5.45\"\n",
    "\n",
    "    if \"<=\" in node:\n",
    "        attr, threshold = node.split(\" <= \")\n",
    "        threshold = float(threshold)\n",
    "        if sample[attr] <= threshold:\n",
    "            return predict(tree[node], sample)\n",
    "        else:\n",
    "            other_key = f\"{attr} > {threshold:.2f}\"\n",
    "            return predict(tree[other_key], sample)\n",
    "\n",
    "    elif \">\" in node:\n",
    "        attr, threshold = node.split(\" > \")\n",
    "        threshold = float(threshold)\n",
    "        if sample[attr] > threshold:\n",
    "            return predict(tree[node], sample)\n",
    "        else:\n",
    "            other_key = f\"{attr} <= {threshold:.2f}\"\n",
    "            return predict(tree[other_key], sample)\n",
    "\n",
    "    else:\n",
    "        return tree[node]"
   ]
  },
  {
   "cell_type": "code",
   "execution_count": 11,
   "id": "734e1e2f-5f10-4d34-bf04-19f04746cc48",
   "metadata": {},
   "outputs": [
    {
     "name": "stdout",
     "output_type": "stream",
     "text": [
      "Decision Tree (CART):\n",
      "{'petal length (cm) <= 2.45': 'setosa', 'petal length (cm) > 2.45': {'petal length (cm) <= 4.75': {'petal width (cm) <= 1.65': 'versicolor', 'petal width (cm) > 1.65': 'virginica'}, 'petal length (cm) > 4.75': {'petal width (cm) <= 1.75': 'virginica', 'petal width (cm) > 1.75': 'virginica'}}}\n"
     ]
    }
   ],
   "source": [
    "attributes = list(df.columns[:-1])\n",
    "tree = cart(train_df, attributes, max_depth=3)\n",
    "\n",
    "print(\"Decision Tree (CART):\")\n",
    "print(tree)"
   ]
  },
  {
   "cell_type": "code",
   "execution_count": 12,
   "id": "ca9687e8-0933-4d7f-9c0b-0670cf9f16c4",
   "metadata": {},
   "outputs": [
    {
     "name": "stdout",
     "output_type": "stream",
     "text": [
      "\n",
      "Test Accuracy: 0.9666666666666667\n"
     ]
    }
   ],
   "source": [
    "correct = 0\n",
    "for _, row in test_df.iterrows():\n",
    "    pred = predict(tree, row)\n",
    "    if pred == row[\"label\"]:\n",
    "        correct += 1\n",
    "\n",
    "accuracy = correct / len(test_df)\n",
    "print(\"\\nTest Accuracy:\", accuracy)"
   ]
  },
  {
   "cell_type": "code",
   "execution_count": 13,
   "id": "2a6e5ed3-77b5-4cc6-9e01-47689efaa7b5",
   "metadata": {},
   "outputs": [
    {
     "name": "stdout",
     "output_type": "stream",
     "text": [
      "\n",
      "Test Sample: {'sepal length (cm)': 6.1, 'sepal width (cm)': 2.8, 'petal length (cm)': 4.7, 'petal width (cm)': 1.2}\n",
      "True Label: versicolor\n",
      "Predicted: versicolor\n"
     ]
    }
   ],
   "source": [
    "sample = test_df.iloc[0]\n",
    "print(\"\\nTest Sample:\", sample[:-1].to_dict())\n",
    "print(\"True Label:\", sample[\"label\"])\n",
    "print(\"Predicted:\", predict(tree, sample))"
   ]
  },
  {
   "cell_type": "code",
   "execution_count": null,
   "id": "10941d22-9538-4ee0-88e7-7f8d387e3493",
   "metadata": {},
   "outputs": [],
   "source": []
  }
 ],
 "metadata": {
  "kernelspec": {
   "display_name": "Python 3 (ipykernel)",
   "language": "python",
   "name": "python3"
  },
  "language_info": {
   "codemirror_mode": {
    "name": "ipython",
    "version": 3
   },
   "file_extension": ".py",
   "mimetype": "text/x-python",
   "name": "python",
   "nbconvert_exporter": "python",
   "pygments_lexer": "ipython3",
   "version": "3.12.7"
  }
 },
 "nbformat": 4,
 "nbformat_minor": 5
}
