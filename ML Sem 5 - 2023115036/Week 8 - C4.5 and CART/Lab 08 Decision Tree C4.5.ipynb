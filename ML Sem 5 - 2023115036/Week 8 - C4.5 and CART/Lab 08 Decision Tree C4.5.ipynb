{
 "cells": [
  {
   "cell_type": "code",
   "execution_count": 12,
   "id": "9f03086d-af40-4955-95f9-cb1275b12809",
   "metadata": {},
   "outputs": [],
   "source": [
    "import pandas as pd\n",
    "import numpy as np\n",
    "from sklearn.datasets import load_iris\n",
    "from sklearn.model_selection import train_test_split\n",
    "from collections import Counter"
   ]
  },
  {
   "cell_type": "code",
   "execution_count": 13,
   "id": "a7c1d2ec-641a-4829-a4d5-f60ccf15c824",
   "metadata": {},
   "outputs": [],
   "source": [
    "iris = load_iris()\n",
    "df = pd.DataFrame(iris.data, columns=iris.feature_names)\n",
    "df[\"label\"] = iris.target\n",
    "df[\"label\"] = df[\"label\"].map({0: \"setosa\", 1: \"versicolor\", 2: \"virginica\"})\n"
   ]
  },
  {
   "cell_type": "code",
   "execution_count": 14,
   "id": "ff71abee-2afd-4365-ba22-39c68618196c",
   "metadata": {},
   "outputs": [],
   "source": [
    "train_df, test_df = train_test_split(df, test_size=0.2, random_state=42)"
   ]
  },
  {
   "cell_type": "code",
   "execution_count": 15,
   "id": "b9db1c55-395e-4b57-aafc-c3d2a368f9e9",
   "metadata": {},
   "outputs": [],
   "source": [
    "def entropy(data):\n",
    "    labels = data[\"label\"]\n",
    "    counts = Counter(labels)\n",
    "    total = len(labels)\n",
    "    return -sum((count/total) * np.log2(count/total) for count in counts.values())"
   ]
  },
  {
   "cell_type": "code",
   "execution_count": 16,
   "id": "018e72a6-fd6a-465e-8f8e-8801ea53cde3",
   "metadata": {},
   "outputs": [],
   "source": [
    "def best_split(data, attributes):\n",
    "    base_entropy = entropy(data)\n",
    "    best_attr, best_threshold, best_gain_ratio = None, None, -1\n",
    "\n",
    "    for attr in attributes:\n",
    "        values = sorted(data[attr].unique())\n",
    "        for i in range(len(values) - 1):\n",
    "            threshold = (values[i] + values[i+1]) / 2\n",
    "            left_split = data[data[attr] <= threshold]\n",
    "            right_split = data[data[attr] > threshold]\n",
    "\n",
    "            if len(left_split) == 0 or len(right_split) == 0:\n",
    "                continue\n",
    "\n",
    "            weighted_entropy = (len(left_split)/len(data))*entropy(left_split) + \\ (len(right_split)/len(data))*entropy(right_split)\n",
    "            info_gain = base_entropy - weighted_entropy\n",
    "\n",
    "            split_info = 0\n",
    "            for subset in [left_split, right_split]:\n",
    "                if len(subset) > 0:\n",
    "                    ratio = len(subset)/len(data)\n",
    "                    split_info -= ratio * np.log2(ratio)\n",
    "\n",
    "            if split_info > 0:\n",
    "                gain_ratio = info_gain / split_info\n",
    "            else:\n",
    "                gain_ratio = 0\n",
    "\n",
    "            if gain_ratio > best_gain_ratio:\n",
    "                best_gain_ratio = gain_ratio\n",
    "                best_attr = attr\n",
    "                best_threshold = threshold\n",
    "\n",
    "    return best_attr, best_threshold, best_gain_ratio"
   ]
  },
  {
   "cell_type": "code",
   "execution_count": 17,
   "id": "f036b26e-a9e9-413a-8172-1a2b68d133c3",
   "metadata": {},
   "outputs": [],
   "source": [
    "def c45(data, attributes, depth=0, max_depth=3):\n",
    "    labels = data[\"label\"]\n",
    "\n",
    "    if len(set(labels)) == 1:\n",
    "        return labels.iloc[0]\n",
    "    if len(attributes) == 0 or depth == max_depth:\n",
    "        return Counter(labels).most_common(1)[0][0]\n",
    "\n",
    "    best_attr, best_threshold, best_gain_ratio = best_split(data, attributes)\n",
    "    if best_attr is None:\n",
    "        return Counter(labels).most_common(1)[0][0]\n",
    "\n",
    "    left_split = data[data[best_attr] <= best_threshold]\n",
    "    right_split = data[data[best_attr] > best_threshold]\n",
    "\n",
    "    tree = {f\"{best_attr} <= {best_threshold:.2f}\": c45(left_split, attributes, depth+1, max_depth),\n",
    "            f\"{best_attr} > {best_threshold:.2f}\": c45(right_split, attributes, depth+1, max_depth)}\n",
    "\n",
    "    return tree"
   ]
  },
  {
   "cell_type": "code",
   "execution_count": 18,
   "id": "a112601b-fe3e-4a2f-bd7f-3c20a4b62d01",
   "metadata": {},
   "outputs": [],
   "source": [
    "def predict(tree, sample):\n",
    "    if not isinstance(tree, dict):\n",
    "        return tree\n",
    "\n",
    "    node = list(tree.keys())[0]\n",
    "\n",
    "    if \"<=\" in node:\n",
    "        attr, threshold = node.split(\" <= \")\n",
    "        threshold = float(threshold)\n",
    "        if sample[attr] <= threshold:\n",
    "            return predict(tree[node], sample)\n",
    "        else:\n",
    "            other_key = [k for k in tree.keys() if \">\" in k][0]\n",
    "            return predict(tree[other_key], sample)\n",
    "\n",
    "    elif \">\" in node:\n",
    "        attr, threshold = node.split(\" > \")\n",
    "        threshold = float(threshold)\n",
    "        if sample[attr] > threshold:\n",
    "            return predict(tree[node], sample)\n",
    "        else:\n",
    "            other_key = [k for k in tree.keys() if \"<=\" in k][0]\n",
    "            return predict(tree[other_key], sample)"
   ]
  },
  {
   "cell_type": "code",
   "execution_count": 19,
   "id": "154c058b-93b2-40ae-ac15-d00daa8d4015",
   "metadata": {},
   "outputs": [
    {
     "name": "stdout",
     "output_type": "stream",
     "text": [
      "Decision Tree (C4.5):\n",
      "{'petal length (cm) <= 2.45': 'setosa', 'petal length (cm) > 2.45': {'petal width (cm) <= 1.75': {'petal length (cm) <= 5.35': 'versicolor', 'petal length (cm) > 5.35': 'virginica'}, 'petal width (cm) > 1.75': {'petal length (cm) <= 4.85': 'virginica', 'petal length (cm) > 4.85': 'virginica'}}}\n"
     ]
    }
   ],
   "source": [
    "attributes = list(df.columns[:-1])\n",
    "tree = c45(train_df, attributes, max_depth=3)\n",
    "\n",
    "print(\"Decision Tree (C4.5):\")\n",
    "print(tree)"
   ]
  },
  {
   "cell_type": "code",
   "execution_count": 20,
   "id": "077f75ff-21d6-4936-8bfe-e6f7aa984794",
   "metadata": {},
   "outputs": [
    {
     "name": "stdout",
     "output_type": "stream",
     "text": [
      "\n",
      "Test Accuracy: 1.0\n"
     ]
    }
   ],
   "source": [
    "correct = 0\n",
    "for _, row in test_df.iterrows():\n",
    "    pred = predict(tree, row)\n",
    "    if pred == row[\"label\"]:\n",
    "        correct += 1\n",
    "\n",
    "accuracy = correct / len(test_df)\n",
    "print(\"\\nTest Accuracy:\", accuracy)"
   ]
  },
  {
   "cell_type": "code",
   "execution_count": 21,
   "id": "9dce2109-5b5d-4e6c-8bdc-65678a3e88d2",
   "metadata": {},
   "outputs": [
    {
     "name": "stdout",
     "output_type": "stream",
     "text": [
      "\n",
      "Test Sample: {'sepal length (cm)': 6.1, 'sepal width (cm)': 2.8, 'petal length (cm)': 4.7, 'petal width (cm)': 1.2}\n",
      "True Label: versicolor\n",
      "Predicted: versicolor\n"
     ]
    }
   ],
   "source": [
    "sample = test_df.iloc[0]\n",
    "print(\"\\nTest Sample:\", sample[:-1].to_dict())\n",
    "print(\"True Label:\", sample[\"label\"])\n",
    "print(\"Predicted:\", predict(tree, sample))"
   ]
  },
  {
   "cell_type": "code",
   "execution_count": null,
   "id": "be76d0cf-a282-4639-8cb2-b57f785a05ec",
   "metadata": {},
   "outputs": [],
   "source": []
  }
 ],
 "metadata": {
  "kernelspec": {
   "display_name": "Python 3 (ipykernel)",
   "language": "python",
   "name": "python3"
  },
  "language_info": {
   "codemirror_mode": {
    "name": "ipython",
    "version": 3
   },
   "file_extension": ".py",
   "mimetype": "text/x-python",
   "name": "python",
   "nbconvert_exporter": "python",
   "pygments_lexer": "ipython3",
   "version": "3.12.7"
  }
 },
 "nbformat": 4,
 "nbformat_minor": 5
}
