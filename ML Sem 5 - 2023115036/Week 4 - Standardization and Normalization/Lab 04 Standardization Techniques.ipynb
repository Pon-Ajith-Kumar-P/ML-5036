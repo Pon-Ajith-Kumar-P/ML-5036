{
 "cells": [
  {
   "cell_type": "code",
   "execution_count": 2,
   "id": "784d765a-c4a9-4d63-9eed-73938c9ccff2",
   "metadata": {},
   "outputs": [
    {
     "name": "stdout",
     "output_type": "stream",
     "text": [
      "['Bin-0', 'Bin-0', 'Bin-0', 'Bin-1', 'Bin-1', 'Bin-2', 'Bin-2']\n"
     ]
    }
   ],
   "source": [
    "def binning(data, bins):\n",
    "    min_val = min(data)\n",
    "    max_val = max(data)\n",
    "    bin_width = (max_val - min_val) / bins\n",
    "    binned_data = []\n",
    "\n",
    "    for value in data:\n",
    "        bin_index = int((value - min_val) / bin_width)\n",
    "        if bin_index == bins:\n",
    "            bin_index -= 1\n",
    "        binned_data.append(f\"Bin-{bin_index}\")\n",
    "    return binned_data\n",
    "\n",
    "data = [5, 7, 10, 15, 18, 21, 25]\n",
    "print(binning(data, 3))\n"
   ]
  },
  {
   "cell_type": "code",
   "execution_count": 15,
   "id": "7976c825-ab21-41d5-82bb-3ecf7c3efcdf",
   "metadata": {},
   "outputs": [
    {
     "name": "stdout",
     "output_type": "stream",
     "text": [
      "[0.0, 0.25, 0.5, 0.75, 1.0]\n"
     ]
    }
   ],
   "source": [
    "def min_max_normalize(data, new_min=0, new_max=1):\n",
    "    old_min = min(data)\n",
    "    old_max = max(data)\n",
    "    return [((x - old_min) / (old_max - old_min)) * (new_max - new_min) + new_min for x in data]\n",
    "\n",
    "data = [10, 15, 20, 25, 30]\n",
    "print(min_max_normalize(data))"
   ]
  },
  {
   "cell_type": "code",
   "execution_count": 17,
   "id": "de313d1c-e4b5-4aec-8481-1a29d988a58b",
   "metadata": {},
   "outputs": [],
   "source": [
    "#Chi Square Test"
   ]
  },
  {
   "cell_type": "code",
   "execution_count": 19,
   "id": "345697f0-0f74-4c3b-b91f-246d07091d8b",
   "metadata": {},
   "outputs": [
    {
     "name": "stdout",
     "output_type": "stream",
     "text": [
      "{'TP': 2, 'TN': 2, 'FP': 0, 'FN': 1}\n"
     ]
    }
   ],
   "source": [
    "def confusion_matrix(actual, predicted):\n",
    "    tp = tn = fp = fn = 0\n",
    "    for a, p in zip(actual, predicted):\n",
    "        if a == 1 and p == 1:\n",
    "            tp += 1\n",
    "        elif a == 0 and p == 0:\n",
    "            tn += 1\n",
    "        elif a == 0 and p == 1:\n",
    "            fp += 1\n",
    "        elif a == 1 and p == 0:\n",
    "            fn += 1\n",
    "    return {\"TP\": tp, \"TN\": tn, \"FP\": fp, \"FN\": fn}\n",
    "\n",
    "# Example\n",
    "actual = [1, 0, 1, 0, 1]\n",
    "predicted = [1, 0, 0, 0, 1]\n",
    "print(confusion_matrix(actual,predicted))"
   ]
  },
  {
   "cell_type": "code",
   "execution_count": null,
   "id": "0a592751-6b3f-4791-8960-b4b8aab6c59c",
   "metadata": {},
   "outputs": [],
   "source": []
  }
 ],
 "metadata": {
  "kernelspec": {
   "display_name": "Python 3 (ipykernel)",
   "language": "python",
   "name": "python3"
  },
  "language_info": {
   "codemirror_mode": {
    "name": "ipython",
    "version": 3
   },
   "file_extension": ".py",
   "mimetype": "text/x-python",
   "name": "python",
   "nbconvert_exporter": "python",
   "pygments_lexer": "ipython3",
   "version": "3.12.7"
  }
 },
 "nbformat": 4,
 "nbformat_minor": 5
}
