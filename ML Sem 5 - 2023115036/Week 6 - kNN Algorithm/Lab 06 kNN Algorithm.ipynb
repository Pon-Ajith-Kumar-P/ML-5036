{
 "cells": [
  {
   "cell_type": "code",
   "execution_count": 23,
   "id": "34e2817c-b6ba-4aa0-b6f8-705702a6ef37",
   "metadata": {},
   "outputs": [],
   "source": [
    "import math\n",
    "import pandas as pd\n",
    "from collections import Counter\n",
    "from sklearn.datasets import load_iris"
   ]
  },
  {
   "cell_type": "code",
   "execution_count": 24,
   "id": "e3d2aba1-8b45-4854-8f92-f82b44628414",
   "metadata": {},
   "outputs": [],
   "source": [
    "#Load iris dataset\n",
    "iris = load_iris()\n",
    "X = iris.data.tolist()  \n",
    "y = iris.target.tolist()"
   ]
  },
  {
   "cell_type": "code",
   "execution_count": 30,
   "id": "8df9b943-a18d-407f-baba-6e8a16572ce3",
   "metadata": {},
   "outputs": [],
   "source": [
    "# Combine features\n",
    "data = [X[i] + [y[i]] for i in range(len(y))]"
   ]
  },
  {
   "cell_type": "code",
   "execution_count": 26,
   "id": "8558ae5d-e206-4645-83d5-6c3a39eba7e1",
   "metadata": {},
   "outputs": [
    {
     "data": {
      "text/html": [
       "<div>\n",
       "<style scoped>\n",
       "    .dataframe tbody tr th:only-of-type {\n",
       "        vertical-align: middle;\n",
       "    }\n",
       "\n",
       "    .dataframe tbody tr th {\n",
       "        vertical-align: top;\n",
       "    }\n",
       "\n",
       "    .dataframe thead th {\n",
       "        text-align: right;\n",
       "    }\n",
       "</style>\n",
       "<table border=\"1\" class=\"dataframe\">\n",
       "  <thead>\n",
       "    <tr style=\"text-align: right;\">\n",
       "      <th></th>\n",
       "      <th>0</th>\n",
       "      <th>1</th>\n",
       "      <th>2</th>\n",
       "      <th>3</th>\n",
       "      <th>4</th>\n",
       "    </tr>\n",
       "  </thead>\n",
       "  <tbody>\n",
       "    <tr>\n",
       "      <th>0</th>\n",
       "      <td>5.1</td>\n",
       "      <td>3.5</td>\n",
       "      <td>1.4</td>\n",
       "      <td>0.2</td>\n",
       "      <td>0</td>\n",
       "    </tr>\n",
       "    <tr>\n",
       "      <th>1</th>\n",
       "      <td>4.9</td>\n",
       "      <td>3.0</td>\n",
       "      <td>1.4</td>\n",
       "      <td>0.2</td>\n",
       "      <td>0</td>\n",
       "    </tr>\n",
       "    <tr>\n",
       "      <th>2</th>\n",
       "      <td>4.7</td>\n",
       "      <td>3.2</td>\n",
       "      <td>1.3</td>\n",
       "      <td>0.2</td>\n",
       "      <td>0</td>\n",
       "    </tr>\n",
       "    <tr>\n",
       "      <th>3</th>\n",
       "      <td>4.6</td>\n",
       "      <td>3.1</td>\n",
       "      <td>1.5</td>\n",
       "      <td>0.2</td>\n",
       "      <td>0</td>\n",
       "    </tr>\n",
       "    <tr>\n",
       "      <th>4</th>\n",
       "      <td>5.0</td>\n",
       "      <td>3.6</td>\n",
       "      <td>1.4</td>\n",
       "      <td>0.2</td>\n",
       "      <td>0</td>\n",
       "    </tr>\n",
       "  </tbody>\n",
       "</table>\n",
       "</div>"
      ],
      "text/plain": [
       "     0    1    2    3  4\n",
       "0  5.1  3.5  1.4  0.2  0\n",
       "1  4.9  3.0  1.4  0.2  0\n",
       "2  4.7  3.2  1.3  0.2  0\n",
       "3  4.6  3.1  1.5  0.2  0\n",
       "4  5.0  3.6  1.4  0.2  0"
      ]
     },
     "execution_count": 26,
     "metadata": {},
     "output_type": "execute_result"
    }
   ],
   "source": [
    "df = pd.DataFrame(data)\n",
    "df.head()"
   ]
  },
  {
   "cell_type": "code",
   "execution_count": 27,
   "id": "286c5ff2-cfc9-4a80-b964-2f21ff65b924",
   "metadata": {},
   "outputs": [],
   "source": [
    "def euclidean_distance(point1, point2):\n",
    "    distance = 0\n",
    "    for i in range(len(point1)):\n",
    "        distance += (point1[i] - point2[i]) ** 2\n",
    "    return math.sqrt(distance)"
   ]
  },
  {
   "cell_type": "code",
   "execution_count": 28,
   "id": "e3616ff6-1e5c-410d-a20e-7306192f10fc",
   "metadata": {},
   "outputs": [],
   "source": [
    "def knn(train_data, test_point, k=3):\n",
    "    distances = []\n",
    "    for data_point in train_data:\n",
    "        features = data_point[:-1]  \n",
    "        label = data_point[-1]\n",
    "        distance = euclidean_distance(features, test_point)\n",
    "        distances.append((distance, label))\n",
    "\n",
    "    distances.sort(key=lambda x: x[0])\n",
    "    neighbors_labels = [label for _, label in distances[:k]]\n",
    "    most_common = Counter(neighbors_labels).most_common(1)\n",
    "    return most_common[0][0]"
   ]
  },
  {
   "cell_type": "code",
   "execution_count": 35,
   "id": "610599f7-6bdc-4afa-a88a-95b2811807ee",
   "metadata": {},
   "outputs": [
    {
     "name": "stdout",
     "output_type": "stream",
     "text": [
      "Test point: [5.4, 3.7, 1.5, 0.2]\n",
      "Actual label: 0\n",
      "Predicted label: 0\n"
     ]
    }
   ],
   "source": [
    "#Test new data\n",
    "test_point = X[10]\n",
    "predicted_label = knn(data, test_point, k=3)\n",
    "\n",
    "print(f\"Test point: {test_point}\")\n",
    "print(f\"Actual label: {y[10]}\")\n",
    "print(f\"Predicted label: {predicted_label}\")"
   ]
  },
  {
   "cell_type": "code",
   "execution_count": null,
   "id": "1f944738-2529-4b6d-9787-55d8386c16e7",
   "metadata": {},
   "outputs": [],
   "source": []
  }
 ],
 "metadata": {
  "kernelspec": {
   "display_name": "Python 3 (ipykernel)",
   "language": "python",
   "name": "python3"
  },
  "language_info": {
   "codemirror_mode": {
    "name": "ipython",
    "version": 3
   },
   "file_extension": ".py",
   "mimetype": "text/x-python",
   "name": "python",
   "nbconvert_exporter": "python",
   "pygments_lexer": "ipython3",
   "version": "3.12.7"
  }
 },
 "nbformat": 4,
 "nbformat_minor": 5
}
