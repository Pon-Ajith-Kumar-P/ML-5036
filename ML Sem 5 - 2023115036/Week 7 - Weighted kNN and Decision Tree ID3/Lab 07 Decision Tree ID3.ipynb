{
 "cells": [
  {
   "cell_type": "code",
   "execution_count": 14,
   "id": "64d971b3-fa7f-4df8-88c6-7b04d3d88e4b",
   "metadata": {},
   "outputs": [],
   "source": [
    "import pandas as pd\n",
    "import numpy as np\n",
    "from sklearn.datasets import load_iris\n",
    "from sklearn.model_selection import train_test_split\n",
    "from collections import Counter\n",
    "import math"
   ]
  },
  {
   "cell_type": "code",
   "execution_count": 15,
   "id": "da9469ba-8119-4595-aef6-e6ad906bf213",
   "metadata": {},
   "outputs": [],
   "source": [
    "iris = load_iris()\n",
    "df = pd.DataFrame(iris.data, columns=iris.feature_names)\n",
    "df[\"label\"] = iris.target\n",
    "df[\"label\"] = df[\"label\"].map({0: \"setosa\", 1: \"versicolor\", 2: \"virginica\"})"
   ]
  },
  {
   "cell_type": "code",
   "execution_count": 16,
   "id": "2847da81-5d39-4cbc-8a0f-41c3da3d38a9",
   "metadata": {},
   "outputs": [],
   "source": [
    "train_df, test_df = train_test_split(df, test_size=0.2, random_state=42)"
   ]
  },
  {
   "cell_type": "code",
   "execution_count": 17,
   "id": "ab7020dd-40d3-4ac8-9f35-177d7dfe13dd",
   "metadata": {},
   "outputs": [],
   "source": [
    "def entropy(data):\n",
    "    labels = data[\"label\"]\n",
    "    counts = Counter(labels)\n",
    "    total = len(labels)\n",
    "    return -sum((count/total) * math.log2(count/total) for count in counts.values())"
   ]
  },
  {
   "cell_type": "code",
   "execution_count": 18,
   "id": "e867c5e7-7bf6-45a5-9c50-d20a64fd09d2",
   "metadata": {},
   "outputs": [],
   "source": [
    "def info_gain(data, attr, threshold):\n",
    "    left_split = data[data[attr] <= threshold]\n",
    "    right_split = data[data[attr] > threshold]\n",
    "\n",
    "    if len(left_split) == 0 or len(right_split) == 0:\n",
    "        return 0\n",
    "\n",
    "    total = len(data)\n",
    "    weighted_entropy = (len(left_split)/total) * entropy(left_split) + \\ (len(right_split)/total) * entropy(right_split)\n",
    "    return entropy(data) - weighted_entropy"
   ]
  },
  {
   "cell_type": "code",
   "execution_count": 19,
   "id": "a2be505e-9e57-4292-9ccc-06b019edfd74",
   "metadata": {},
   "outputs": [],
   "source": [
    "def best_split(data, attributes):\n",
    "    best_attr, best_threshold, best_gain = None, None, -1\n",
    "\n",
    "    for attr in attributes:\n",
    "        values = sorted(data[attr].unique())\n",
    "        for i in range(len(values) - 1):\n",
    "            threshold = (values[i] + values[i+1]) / 2\n",
    "            gain = info_gain(data, attr, threshold)\n",
    "\n",
    "            if gain > best_gain:\n",
    "                best_gain = gain\n",
    "                best_attr = attr\n",
    "                best_threshold = threshold\n",
    "\n",
    "    return best_attr, best_threshold, best_gain"
   ]
  },
  {
   "cell_type": "code",
   "execution_count": 20,
   "id": "1914af9a-140b-4eb2-9fdd-2bdf3915ebbc",
   "metadata": {},
   "outputs": [],
   "source": [
    "def id3(data, attributes, depth=0, max_depth=3):\n",
    "    labels = data[\"label\"]\n",
    "\n",
    "    if len(set(labels)) == 1:\n",
    "        return labels.iloc[0]\n",
    "    if len(attributes) == 0 or depth == max_depth:\n",
    "        return Counter(labels).most_common(1)[0][0]\n",
    "\n",
    "    best_attr, best_threshold, best_gain = best_split(data, attributes)\n",
    "    if best_attr is None:\n",
    "        return Counter(labels).most_common(1)[0][0]\n",
    "\n",
    "    left_split = data[data[best_attr] <= best_threshold]\n",
    "    right_split = data[data[best_attr] > best_threshold]\n",
    "\n",
    "    tree = {\n",
    "        f\"{best_attr} <= {best_threshold:.2f}\": id3(left_split, attributes, depth+1, max_depth),\n",
    "        f\"{best_attr} > {best_threshold:.2f}\": id3(right_split, attributes, depth+1, max_depth)\n",
    "    }\n",
    "    return tree"
   ]
  },
  {
   "cell_type": "code",
   "execution_count": 21,
   "id": "c128d49b-0456-4c63-b97f-cfd0927aaeaa",
   "metadata": {},
   "outputs": [],
   "source": [
    "def predict(tree, sample):\n",
    "    if not isinstance(tree, dict):\n",
    "        return tree\n",
    "\n",
    "    for condition, subtree in tree.items():\n",
    "        attr, operator, threshold = condition.rsplit(\" \", 2)\n",
    "        threshold = float(threshold)\n",
    "\n",
    "        if operator == \"<=\" and sample[attr] <= threshold:\n",
    "            return predict(subtree, sample)\n",
    "        elif operator == \">\" and sample[attr] > threshold:\n",
    "            return predict(subtree, sample)\n",
    "\n",
    "    return None "
   ]
  },
  {
   "cell_type": "code",
   "execution_count": 22,
   "id": "71d6f59a-cc46-4208-8a35-4a92db7b3dff",
   "metadata": {},
   "outputs": [
    {
     "name": "stdout",
     "output_type": "stream",
     "text": [
      "Decision Tree (ID3):\n",
      "{'petal length (cm) <= 2.45': 'setosa', 'petal length (cm) > 2.45': {'petal length (cm) <= 4.75': {'petal width (cm) <= 1.65': 'versicolor', 'petal width (cm) > 1.65': 'virginica'}, 'petal length (cm) > 4.75': {'petal width (cm) <= 1.75': 'virginica', 'petal width (cm) > 1.75': 'virginica'}}}\n"
     ]
    }
   ],
   "source": [
    "attributes = list(df.columns[:-1])\n",
    "tree = id3(train_df, attributes, max_depth=3)\n",
    "\n",
    "print(\"Decision Tree (ID3):\")\n",
    "print(tree)"
   ]
  },
  {
   "cell_type": "code",
   "execution_count": 23,
   "id": "e5eaa2ef-91a9-4f08-80d4-02e443a0f4ea",
   "metadata": {},
   "outputs": [
    {
     "name": "stdout",
     "output_type": "stream",
     "text": [
      "\n",
      "Test Accuracy: 0.9666666666666667\n"
     ]
    }
   ],
   "source": [
    "correct = 0\n",
    "for _, row in test_df.iterrows():\n",
    "    pred = predict(tree, row)\n",
    "    if pred == row[\"label\"]:\n",
    "        correct += 1\n",
    "\n",
    "accuracy = correct / len(test_df)\n",
    "print(\"\\nTest Accuracy:\", accuracy)"
   ]
  },
  {
   "cell_type": "code",
   "execution_count": 24,
   "id": "46475375-1f44-467a-a2b0-7f207d841744",
   "metadata": {},
   "outputs": [
    {
     "name": "stdout",
     "output_type": "stream",
     "text": [
      "\n",
      "Test Sample: {'sepal length (cm)': 6.1, 'sepal width (cm)': 2.8, 'petal length (cm)': 4.7, 'petal width (cm)': 1.2}\n",
      "True Label: versicolor\n",
      "Predicted: versicolor\n"
     ]
    }
   ],
   "source": [
    "sample = test_df.iloc[0]\n",
    "print(\"\\nTest Sample:\", sample[:-1].to_dict())\n",
    "print(\"True Label:\", sample['label'])\n",
    "print(\"Predicted:\", predict(tree, sample))"
   ]
  },
  {
   "cell_type": "code",
   "execution_count": null,
   "id": "d891ed94-6f65-4ee2-8515-999841c75213",
   "metadata": {},
   "outputs": [],
   "source": []
  }
 ],
 "metadata": {
  "kernelspec": {
   "display_name": "Python 3 (ipykernel)",
   "language": "python",
   "name": "python3"
  },
  "language_info": {
   "codemirror_mode": {
    "name": "ipython",
    "version": 3
   },
   "file_extension": ".py",
   "mimetype": "text/x-python",
   "name": "python",
   "nbconvert_exporter": "python",
   "pygments_lexer": "ipython3",
   "version": "3.12.7"
  }
 },
 "nbformat": 4,
 "nbformat_minor": 5
}
