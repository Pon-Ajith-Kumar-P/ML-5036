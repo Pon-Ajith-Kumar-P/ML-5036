{
 "cells": [
  {
   "cell_type": "code",
   "execution_count": 1,
   "id": "bf3c1d19-2d7e-46fb-945a-3ed931b2a57a",
   "metadata": {},
   "outputs": [],
   "source": [
    "import numpy as np\n",
    "from sklearn.datasets import load_iris\n",
    "from sklearn.model_selection import train_test_split\n",
    "from collections import Counter"
   ]
  },
  {
   "cell_type": "code",
   "execution_count": 2,
   "id": "68272f81-f9fd-4e6b-bb1b-5432eaacdaf3",
   "metadata": {},
   "outputs": [],
   "source": [
    "iris = load_iris()\n",
    "X = iris.data \n",
    "y = iris.target "
   ]
  },
  {
   "cell_type": "code",
   "execution_count": 3,
   "id": "95178d02-ac07-4569-853b-de53fd66a245",
   "metadata": {},
   "outputs": [],
   "source": [
    "X_train, X_test, y_train, y_test = train_test_split(X, y, test_size=0.2, random_state=42)"
   ]
  },
  {
   "cell_type": "code",
   "execution_count": 4,
   "id": "bb2c8524-a22c-4bd1-a349-6746f55d6b45",
   "metadata": {},
   "outputs": [],
   "source": [
    "def euclidean_distance(x1, x2):\n",
    "    return np.sqrt(np.sum((x1 - x2) ** 2))"
   ]
  },
  {
   "cell_type": "code",
   "execution_count": 5,
   "id": "664fb14b-1ac7-4b26-bda7-73b2c43785e6",
   "metadata": {},
   "outputs": [],
   "source": [
    "def weighted_knn_predict(X_train, y_train, x_test, k=3):\n",
    "    distances = []\n",
    "    for i, x_train in enumerate(X_train):\n",
    "        dist = euclidean_distance(x_train, x_test)\n",
    "        distances.append((dist, y_train[i]))\n",
    "    \n",
    "    distances.sort(key=lambda x: x[0])\n",
    "    \n",
    "    k_neighbors = distances[:k]\n",
    "    \n",
    "    class_votes = {}\n",
    "    for dist, label in k_neighbors:\n",
    "        weight = 1 / (dist + 1e-5) \n",
    "        class_votes[label] = class_votes.get(label, 0) + weight\n",
    "    \n",
    "    return max(class_votes, key=class_votes.get)"
   ]
  },
  {
   "cell_type": "code",
   "execution_count": 8,
   "id": "bf2a8e06-2072-444d-9dd8-a899776bcffc",
   "metadata": {},
   "outputs": [
    {
     "name": "stdout",
     "output_type": "stream",
     "text": [
      "Weighted KNN Accuracy: 1.0\n",
      "\n",
      "Sample Predictions:\n",
      "Test sample 1: Predicted = versicolor, Actual = versicolor\n",
      "Test sample 2: Predicted = setosa, Actual = setosa\n",
      "Test sample 3: Predicted = virginica, Actual = virginica\n",
      "Test sample 4: Predicted = versicolor, Actual = versicolor\n",
      "Test sample 5: Predicted = versicolor, Actual = versicolor\n"
     ]
    }
   ],
   "source": [
    "correct = 0\n",
    "for i, x_test in enumerate(X_test):\n",
    "    prediction = weighted_knn_predict(X_train, y_train, x_test, k=3)\n",
    "    if prediction == y_test[i]:\n",
    "        correct += 1\n",
    "\n",
    "accuracy = correct / len(X_test)\n",
    "print(\"Weighted KNN Accuracy:\", accuracy)\n",
    "\n",
    "print(\"\\nSample Predictions:\")\n",
    "for i in range(5): \n",
    "    pred = weighted_knn_predict(X_train, y_train, X_test[i], k=3)\n",
    "    print(f\"Test sample {i+1}: Predicted = {iris.target_names[pred]}, Actual = {iris.target_names[y_test[i]]}\")"
   ]
  },
  {
   "cell_type": "code",
   "execution_count": null,
   "id": "2adcbe6f-d38b-4281-993a-15d829f82f76",
   "metadata": {},
   "outputs": [],
   "source": [
    "3"
   ]
  }
 ],
 "metadata": {
  "kernelspec": {
   "display_name": "Python 3 (ipykernel)",
   "language": "python",
   "name": "python3"
  },
  "language_info": {
   "codemirror_mode": {
    "name": "ipython",
    "version": 3
   },
   "file_extension": ".py",
   "mimetype": "text/x-python",
   "name": "python",
   "nbconvert_exporter": "python",
   "pygments_lexer": "ipython3",
   "version": "3.12.7"
  }
 },
 "nbformat": 4,
 "nbformat_minor": 5
}
